{
 "cells": [
  {
   "cell_type": "markdown",
   "metadata": {},
   "source": [
    "Nomfundo Princess Nkuta\n",
    "\n",
    "Summary of the research\n",
    "\n",
    "The aim of this research is to figure out what types of games people are interested in and the types of games that people have less interest in. By so doing ,this will help game devolopers to not create games that will go into waste and not get played by anyone. The aim for every game developer is to make a game that will impress the gamers.\n",
    "\n",
    "Games are made to entertain and some to educate people. \n",
    "\n",
    "Observations:\n",
    "\n",
    "In our case what I observed is that people are more interested in playing games for enjoyment than for educational purposes.\n",
    "\n",
    "I also observed that people become so enthusiast about playing a game and forget to first read the game instructions. This leads to having players not being able to master the game controls in first attempt of playing a game. Not reading the game instructions also makes players to be confused on what the game is really about.\n",
    "\n",
    "Some games don't include instructions to stimulate thinking in their gamers and this some how makes some gamers to be less interested in the game when the game seems to be hard for the them.\n",
    "\n",
    "Findings:\n",
    "\n",
    "71.4% of people read their instructions before playing a game.\n",
    "\n",
    "42% of people found the game they played to be hard. I think this is caused by not reading instructions for the simple games and that some people just want to have fun when playing a game and not have to find themselves cracking their heads trying to figure out the next move in games that need critical thinking like the paper clip game.\n",
    "\n",
    "42.9% of our gamers didn't grasp their controls in first attempt. This is also caused by the fact that instructions were not read and that some of the games did not come with instructions.\n",
    "\n",
    "42.9% of the gamers suggested that these games should give better instructions. This shows the importance of having instructions included in every game.\n",
    "\n",
    "100% of our players were male. It seems that male people are the ones that are more into games than females.\n",
    "\n",
    "42.9% of our players played slither . Comparing this percentage to the ones of the other games,slither was the most played gamed. \n",
    "\n",
    "Challenges:\n",
    "\n",
    "Changing My dataFrame\n",
    "Getting a code to count values.\n",
    "Plotting Graphs.\n",
    "\n",
    "\n",
    "\n",
    "\n",
    "\n",
    "\n",
    "\n",
    "\n",
    "\n",
    "\n",
    "\n",
    "\n"
   ]
  }
 ],
 "metadata": {
  "kernelspec": {
   "display_name": "Python 3",
   "language": "python",
   "name": "python3"
  },
  "language_info": {
   "codemirror_mode": {
    "name": "ipython",
    "version": 3
   },
   "file_extension": ".py",
   "mimetype": "text/x-python",
   "name": "python",
   "nbconvert_exporter": "python",
   "pygments_lexer": "ipython3",
   "version": "3.6.7"
  }
 },
 "nbformat": 4,
 "nbformat_minor": 2
}
